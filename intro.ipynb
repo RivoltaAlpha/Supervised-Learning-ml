{
 "cells": [
  {
   "cell_type": "code",
   "execution_count": null,
   "metadata": {},
   "outputs": [],
   "source": [
    "print('Supervised Learning')"
   ]
  },
  {
   "cell_type": "code",
   "execution_count": null,
   "metadata": {},
   "outputs": [],
   "source": [
    " # Titanic Dataset - Find and Visualize Missing Data"
   ]
  },
  {
   "cell_type": "code",
   "execution_count": null,
   "metadata": {},
   "outputs": [],
   "source": [
    "import pandas as pd\n",
    "%pip install missingno\n",
    "import graphing.py as graphing\n",
    "\n",
    "# Load data from our dataset file into a pandas dataframe\n",
    "dataset = pd.read_csv('titanic.csv', index_col=False, sep=\",\", header=0)\n",
    "\n",
    "# Print out the first few rows of the data\n",
    "dataset.head()\n",
    "\n",
    "# Print out the data type of each column\n",
    "dataset.dtypes\n",
    "\n",
    "# Print out the number of rows and columns\n",
    "dataset.shape\n",
    "\n",
    "# Print out the number of survivors\n",
    "dataset['Survived'].value_counts()\n",
    "\n",
    "# Print out the percentage of survivors\n",
    "dataset['Survived'].value_counts(normalize=True)\n",
    "\n",
    "# Print out the number of males and females\n",
    "dataset['Sex'].value_counts()\n",
    "\n",
    "# Print out the percentage of males and females\n",
    "dataset['Sex'].value_counts(normalize=True)\n",
    "\n",
    "# Let's take a look at the data\n",
    "dataset.head()"
   ]
  }
 ],
 "metadata": {
  "kernelspec": {
   "display_name": "base",
   "language": "python",
   "name": "python3"
  },
  "language_info": {
   "codemirror_mode": {
    "name": "ipython",
    "version": 3
   },
   "file_extension": ".py",
   "mimetype": "text/x-python",
   "name": "python",
   "nbconvert_exporter": "python",
   "pygments_lexer": "ipython3",
   "version": "3.12.1"
  }
 },
 "nbformat": 4,
 "nbformat_minor": 2
}
