{
 "cells": [
  {
   "cell_type": "code",
   "execution_count": null,
   "metadata": {},
   "outputs": [],
   "source": [
    "# Handling Missing Data"
   ]
  },
  {
   "cell_type": "code",
   "execution_count": null,
   "metadata": {},
   "outputs": [],
   "source": [
    "# Delete data with missing rows\n",
    "\n",
    "# Create a \"clean\" dataset, where we cumulatively fix missing values\n",
    "# Start by removing rows ONLY where \"Embarked\" has no values\n",
    "print(f\"The original size of our dataset was\", dataset.shape)\n",
    "clean_dataset = dataset.dropna(subset=[\"Embarked\"])\n",
    "clean_dataset = clean_dataset.reindex()\n",
    "\n",
    "# How many rows do we have now?\n",
    "print(\"The shape for the clean dataset is\", clean_dataset.shape)\n"
   ]
  },
  {
   "cell_type": "code",
   "execution_count": null,
   "metadata": {},
   "outputs": [],
   "source": [
    "# Replace empty values with the mean or median for that data.\n",
    "\n",
    "# # Create a \"clean\" dataset, where we cumulatively fix missing values\n",
    "# Start by removing rows ONLY where \"Embarked\" has no values\n",
    "print(f\"The original size of our dataset was\", dataset.shape)\n",
    "clean_dataset = dataset.dropna(subset=[\"Embarked\"])\n",
    "clean_dataset = clean_dataset.reindex()\n",
    "\n",
    "# How many rows do we have now?\n",
    "print(\"The shape for the clean dataset is\", clean_dataset.shape)"
   ]
  },
  {
   "cell_type": "code",
   "execution_count": null,
   "metadata": {},
   "outputs": [],
   "source": [
    "# Assign a new category to unknown categorical data\n",
    "\n",
    "# Assign unknown to records where \"Cabin\" is empty\n",
    "clean_dataset[\"Cabin\"].fillna(\"Unknown\", inplace=True)\n",
    "\n",
    "# Let's see what the clean dataset looks like now\n",
    "print(clean_dataset.isnull().sum().to_frame().rename(columns={0:'Empty Cells'}))"
   ]
  }
 ],
 "metadata": {
  "language_info": {
   "name": "python"
  }
 },
 "nbformat": 4,
 "nbformat_minor": 2
}
