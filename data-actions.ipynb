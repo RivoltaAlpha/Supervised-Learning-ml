{
 "cells": [
  {
   "cell_type": "code",
   "execution_count": null,
   "metadata": {},
   "outputs": [],
   "source": [
    "# Finding Missing Data\n",
    "\n",
    "# Plot a matrix chart, set chart and font size\n",
    "msno.matrix(dataset, figsize=(10,5), fontsize=11)\n",
    "\n",
    "# Calculate the number of empty cells in each column\n",
    "# The following line consists of three commands. Try\n",
    "# to think about how they work together to calculate\n",
    "# the number of missing entries per column\n",
    "missing_data = dataset.isnull().sum().to_frame()\n",
    "\n",
    "# Rename column holding the sums\n",
    "missing_data = missing_data.rename(columns={0:'Empty Cells'})\n",
    "\n",
    "# Print the results\n",
    "print(missing_data)"
   ]
  },
  {
   "cell_type": "code",
   "execution_count": null,
   "metadata": {},
   "outputs": [],
   "source": [
    "import pandas as pd\n",
    "import graphing.py as graphing\n",
    "\n",
    "# Load data from our dataset file into a pandas dataframe\n",
    "dataset = pd.read_csv('titanic.csv')"
   ]
  },
  {
   "cell_type": "code",
   "execution_count": null,
   "metadata": {},
   "outputs": [],
   "source": [
    "** Missing Data Visualizations **\n",
    "\n",
    "# import missingno as msno\n",
    "# Plot a matrix chart, set chart and font size\n",
    "msno.matrix(dataset, figsize=(10,5), fontsize=11)\n",
    "import missingno as msno\n",
    "\n",
    "# Plot a matrix chart, set chart and font size\n",
    "msno.matrix(dataset, figsize=(10,5), fontsize=11)"
   ]
  },
  {
   "cell_type": "code",
   "execution_count": null,
   "metadata": {},
   "outputs": [],
   "source": [
    "# Identifying Individual Passengers with Missing Information.\n",
    "# Select Passengers with unknown age\n",
    "# Notice how we use .isnull() rows with no value\n",
    "unknown_age = dataset[dataset[\"Age\"].isnull()]\n",
    "\n",
    "# Print only the columns we want for the moment (to better fit the screen)\n",
    "# limit output to 20 rows\n",
    "unknown_age[[\"PassengerId\",\"Name\", \"Survived\", \"Age\"]][:20]\n"
   ]
  },
  {
   "cell_type": "markdown",
   "metadata": {},
   "source": []
  },
  {
   "cell_type": "code",
   "execution_count": null,
   "metadata": {},
   "outputs": [],
   "source": [
    "# Find those passengers with missing age or cabin information\n",
    "missing_age = dataset[\"Age\"].isnull()\n",
    "missing_cabin = dataset[\"Cabin\"].isnull()\n",
    "\n",
    "# Find those passengers missing both\n",
    "unknown_age_and_cabin = dataset[missing_age & missing_cabin]\n",
    "print(\"Number of passengers missing age and cabin information:\", len(unknown_age_and_cabin))"
   ]
  },
  {
   "cell_type": "code",
   "execution_count": null,
   "metadata": {},
   "outputs": [],
   "source": [
    "import matplotlib.pyplot as plt\n",
    "\n",
    "plt.hist((dataset.values[:,2]),bins=[0.5, 1.5, 2.5, 3.5],edgecolor=\"white\")\n",
    "plt.hist((unknown_age_and_cabin.values[:,2]),bins=[0.5, 1.5, 2.5, 3.5],edgecolor=\"white\")\n",
    "plt.xticks([1, 2, 3])\n",
    "plt.xlabel(\"Pclass (Passenger Class)\", fontsize=16)\n",
    "plt.ylabel(\"Passenger Count\", fontsize=16)"
   ]
  },
  {
   "cell_type": "code",
   "execution_count": null,
   "metadata": {},
   "outputs": [],
   "source": [
    "# Missing as Zero\n",
    "\n",
    "import numpy as np\n",
    "\n",
    "# Print out the average age of passengers for whom we have age data\n",
    "mean_age = np.mean(dataset.Age)\n",
    "print(\"The average age on the ship was\", mean_age, \"years old\")\n",
    "\n",
    "# Now, make another model where missing ages contained a '0'\n",
    "dataset['Age_2'] = dataset['Age'].fillna(0)\n",
    "mean_age = np.mean(dataset.Age_2)\n",
    "print(\"The average age on the ship was\", mean_age, \"years old\")"
   ]
  },
  {
   "cell_type": "code",
   "execution_count": null,
   "metadata": {},
   "outputs": [],
   "source": [
    "plt.hist(dataset[\"Age\"],bins=[0, 10, 20, 30, 40, 50, 60, 70, 80, 90],edgecolor=\"white\")\n",
    "plt.xticks([0, 10, 20, 30, 40, 50, 60, 70, 80, 90])\n",
    "plt.xlim([0, 90])\n",
    "plt.xlabel(\"Age_2\", fontsize=16)\n",
    "plt.ylabel(\"Passenger Count\", fontsize=16)"
   ]
  }
 ],
 "metadata": {
  "kernelspec": {
   "display_name": "base",
   "language": "python",
   "name": "python3"
  },
  "language_info": {
   "codemirror_mode": {
    "name": "ipython",
    "version": 3
   },
   "file_extension": ".py",
   "mimetype": "text/x-python",
   "name": "python",
   "nbconvert_exporter": "python",
   "pygments_lexer": "ipython3",
   "version": "3.12.1"
  }
 },
 "nbformat": 4,
 "nbformat_minor": 2
}
